{
 "cells": [
  {
   "cell_type": "code",
   "execution_count": null,
   "id": "6a66be0b-eda5-46bf-a43f-40f23e12a477",
   "metadata": {},
   "outputs": [],
   "source": [
    "import os\n",
    "import sys\n",
    "sys.path.append('../src')\n",
    "from utils import generate_ram"
   ]
  },
  {
   "cell_type": "code",
   "execution_count": null,
   "id": "1abddd32-64f6-4e26-b0f8-8fdcce43a261",
   "metadata": {},
   "outputs": [],
   "source": [
    "data_dir = '../programs'\n",
    "mouse_ram = os.path.join(data_dir, 'MOUSE_IR_RAM.mem')"
   ]
  },
  {
   "cell_type": "code",
   "execution_count": null,
   "id": "d267df23-62bf-41d5-b798-4e59449cf827",
   "metadata": {},
   "outputs": [],
   "source": [
    "data_entries = [\n",
    "    # Constants\n",
    "    (0, 0), \n",
    "    (1, 1), \n",
    "    (3, 159),\n",
    "    (4, 119),\n",
    "    (5, 52),\n",
    "    (6, 107),\n",
    "    (7, 39),\n",
    "    (8, 80),\n",
    "    (9, 8),\n",
    "    (10, 80),\n",
    "    (11, 60),\n",
    "    # IR masks\n",
    "    (12, 2),\n",
    "    (13, 4),\n",
    "    (14, 8),\n",
    "    # Variables\n",
    "    # VGA variables\n",
    "    (32, 0),\n",
    "    (33, 0),\n",
    "    # Mouse variables\n",
    "    (48, 8), # MouseStatuts\n",
    "    (49, 80), # Mouse X\n",
    "    (50, 60), # Mouse Y\n",
    "    # IR variables\n",
    "    (64, 0)\n",
    "]\n",
    "generate_ram(data_entries, mouse_ram)"
   ]
  },
  {
   "cell_type": "code",
   "execution_count": null,
   "id": "89493401-cab9-41c8-9bb0-1e7f8e5684eb",
   "metadata": {},
   "outputs": [],
   "source": [
    "full_ram = os.path.join(data_dir, 'FULL_DEMO_RAM.mem')"
   ]
  },
  {
   "cell_type": "code",
   "execution_count": null,
   "id": "d06c2113-efd7-41a5-9cc6-1980fcfee4da",
   "metadata": {},
   "outputs": [],
   "source": [
    "data_entries = [\n",
    "    # Constants\n",
    "    (0, 0), # Constant 0\n",
    "    (1, 1), # Constant 1\n",
    "    (2, 4), # Constant 4\n",
    "    (3, 159), # X limit\n",
    "    (4, 119), # Y limit\n",
    "    (5, 52), # 1st X bar\n",
    "    (6, 107), # 2nd X bar\n",
    "    (7, 39), # 1st Y bar\n",
    "    (8, 80), # 2nd Y bar\n",
    "    (9, 8), # Initial MouseStatus\n",
    "    (10, 80), # Initial MouseX\n",
    "    (11, 60), # Initial MouseY\n",
    "    # IR masks\n",
    "    (12, 13), # IR masks base address\n",
    "    (13, 8), # Right command mask\n",
    "    (14, 2), # Backwards command mask\n",
    "    (15, 1), # Forward command mask\n",
    "    (16, 4), # Left command mask\n",
    "    # Segment select masks\n",
    "    (17, 18), # Segment select masks base address\n",
    "    (18, 0), # Rightmost segment mask\n",
    "    (19, 32),\n",
    "    (20, 64),\n",
    "    (21, 96), # Leftmost segment mask\n",
    "    # Letters\n",
    "    (22, 23), # Letter selection base address\n",
    "    (23, 17), # R\n",
    "    (24, 11), # B\n",
    "    (25, 15), # F\n",
    "    (26, 16), # L\n",
    "    (27, 31), # OFF\n",
    "    \n",
    "    # Variables\n",
    "    # VGA variables\n",
    "    (32, 0),\n",
    "    (33, 0),\n",
    "    # Mouse variables\n",
    "    (48, 8), # MouseStatuts\n",
    "    (49, 80), # Mouse X\n",
    "    (50, 60), # Mouse Y\n",
    "    # IR variables\n",
    "    (64, 0),\n",
    "    # 7-segment variables\n",
    "    (80, 0), # 7-segment packet\n",
    "    (81, 0) # Count for strobbing\n",
    "]\n",
    "generate_ram(data_entries, full_ram)"
   ]
  }
 ],
 "metadata": {
  "language_info": {
   "name": "python"
  }
 },
 "nbformat": 4,
 "nbformat_minor": 5
}
