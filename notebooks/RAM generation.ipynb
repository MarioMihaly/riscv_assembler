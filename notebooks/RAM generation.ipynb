{
 "cells": [
  {
   "cell_type": "code",
   "execution_count": null,
   "id": "6a66be0b-eda5-46bf-a43f-40f23e12a477",
   "metadata": {},
   "outputs": [],
   "source": [
    "import os\n",
    "import sys\n",
    "sys.path.append('../src')\n",
    "from utils import generate_ram"
   ]
  },
  {
   "cell_type": "code",
   "execution_count": null,
   "id": "1abddd32-64f6-4e26-b0f8-8fdcce43a261",
   "metadata": {},
   "outputs": [],
   "source": [
    "data_dir = '../programs'\n",
    "mouse_ram = os.path.join(data_dir, 'MOUSE_RAM.mem')"
   ]
  },
  {
   "cell_type": "code",
   "execution_count": null,
   "id": "d267df23-62bf-41d5-b798-4e59449cf827",
   "metadata": {},
   "outputs": [],
   "source": [
    "data_entries = [\n",
    "    # Constants\n",
    "    (0, 0), \n",
    "    (1, 1), \n",
    "    (3, 159),\n",
    "    (4, 119),\n",
    "    (5, 52),\n",
    "    (6, 107),\n",
    "    (7, 39),\n",
    "    (8, 80),\n",
    "    (9, 8),\n",
    "    (10, 80),\n",
    "    (11, 60),\n",
    "    # Variables\n",
    "    # VGA variables\n",
    "    (32, 0),\n",
    "    (33, 0),\n",
    "    # Mouse variables\n",
    "    (48, 8), # MouseStatuts\n",
    "    (49, 80), # Mouse X\n",
    "    (50, 60) # Mouse Y\n",
    "]\n",
    "generate_ram(data_entries, mouse_ram)"
   ]
  }
 ],
 "metadata": {
  "language_info": {
   "name": "python"
  }
 },
 "nbformat": 4,
 "nbformat_minor": 5
}
