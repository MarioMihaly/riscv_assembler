{
 "cells": [
  {
   "cell_type": "markdown",
   "id": "05633145-a6fc-4dc1-b82b-2f2dc0fb1216",
   "metadata": {},
   "source": [
    "* use counter in instruction definition to keep track how number of lines used and supposed location in ROM.mem file\n",
    "* optional label to help with jumping -> replace with line number at later stage"
   ]
  },
  {
   "cell_type": "code",
   "execution_count": 52,
   "id": "bbb33c1c-2d68-4871-8cf4-e4b3b81a270c",
   "metadata": {},
   "outputs": [],
   "source": [
    "import os\n",
    "import numpy as np\n",
    "from enum import Enum"
   ]
  },
  {
   "cell_type": "code",
   "execution_count": 2,
   "id": "a4684188-b8d4-4423-b01d-d5ae38abaa9d",
   "metadata": {},
   "outputs": [],
   "source": [
    "# Data dir\n",
    "data_dir = '../data'"
   ]
  },
  {
   "cell_type": "markdown",
   "id": "7f9f11ce-c595-45d1-a6b1-8774be2da5d7",
   "metadata": {},
   "source": [
    "### ROM data generation"
   ]
  },
  {
   "cell_type": "code",
   "execution_count": 3,
   "id": "5154271f-c6e9-4491-bf30-8b006c47774a",
   "metadata": {},
   "outputs": [],
   "source": [
    "ROM_ADDR_WIDTH = 8\n",
    "ADDR_COUNT = 2 ** ROM_ADDR_WIDTH\n",
    "ROM_FILE = os.path.join(data_dir, 'ROM_test.mem')\n",
    "data = '\\n'.join([f'{i:02X}' for i in range(ADDR_COUNT)])\n",
    "with open(ROM_FILE, 'w') as f:\n",
    "    f.write(data)"
   ]
  },
  {
   "cell_type": "markdown",
   "id": "e08981fe-dcb9-4ff2-a8c4-7f1c578caa51",
   "metadata": {},
   "source": [
    "### RAM test data generation"
   ]
  },
  {
   "cell_type": "code",
   "execution_count": 4,
   "id": "1c0ecff0-5547-47f4-a490-df8ddfda0e85",
   "metadata": {},
   "outputs": [],
   "source": [
    "RAM_ADDR_WIDTH = 7\n",
    "ADDR_COUNT = 2 ** RAM_ADDR_WIDTH\n",
    "RAM_FILE = os.path.join(data_dir, 'RAM_test.mem')\n",
    "data = '\\n'.join([f'{i:02X}' for i in range(ADDR_COUNT)])\n",
    "with open(RAM_FILE, 'w') as f:\n",
    "    f.write(data)"
   ]
  },
  {
   "cell_type": "code",
   "execution_count": 5,
   "id": "2f8ede3d-de92-49c7-a433-f139b822e6e5",
   "metadata": {},
   "outputs": [],
   "source": [
    "def bin_format(num:int):\n",
    "    return f'{num:02X}'"
   ]
  },
  {
   "cell_type": "code",
   "execution_count": 90,
   "id": "c8a7226d-5cbf-4c54-9696-0b02987f3a69",
   "metadata": {},
   "outputs": [],
   "source": [
    "# ROM and RAM size\n",
    "ROM_SIZE = 2**8\n",
    "RAM_SIZE = 2**7\n",
    "\n",
    "# ALU op-codes\n",
    "ALU_OPS = Enum('ALU_OPS',\n",
    "               names=['ADD', 'SUB', 'MUL', 'SL_A',\n",
    "                      'SR_A', 'INC_A', 'INC_B', 'DEC_A',\n",
    "                      'DEC_B', 'EQ', 'GT', 'LT',\n",
    "                      'OUT_A'],\n",
    "               start=0,\n",
    "               type=int)\n",
    "\n",
    "ALU_OPS_COMMENTS = {\n",
    "    ALU_OPS.ADD : 'A + B',\n",
    "    ALU_OPS.SUB : 'A - B', \n",
    "    ALU_OPS.MUL : 'A * B', \n",
    "    ALU_OPS.SL_A : 'A << 1', \n",
    "    ALU_OPS.SR_A : 'A >> 1', \n",
    "    ALU_OPS.INC_A : 'A + 1', \n",
    "    ALU_OPS.INC_B : 'B + 1', \n",
    "    ALU_OPS.DEC_A : 'A - 1', \n",
    "    ALU_OPS.DEC_B : 'B - 1', \n",
    "    ALU_OPS.EQ: 'A == B', \n",
    "    ALU_OPS.GT : 'A > B', \n",
    "    ALU_OPS.LT : 'A < B', \n",
    "    ALU_OPS.OUT_A : 'A'\n",
    "}\n",
    "\n",
    "# Instruction codes\n",
    "READ_MEM_TO_A  = int('0000', base=2)\n",
    "READ_MEM_TO_B  = int('0001', base=2)\n",
    "WRITE_A_TO_MEM = int('0010', base=2)\n",
    "WRITE_B_TO_MEM = int('0011', base=2)\n",
    "ALU_OP_TO_A    = int('0100', base=2)\n",
    "ALU_OP_TO_B    = int('0101', base=2)\n",
    "\n",
    "\n",
    "\n",
    "\n",
    "\n",
    "\n",
    "def read_mem_to_A(mem_addr:int, ram_size=RAM_SIZE):\n",
    "    assert mem_addr >= 0 and mem_addr < ram_size,\\\n",
    "            f'Memory address {mem_addr} out of range for {ram_size} bytes RAM!'\n",
    "    \n",
    "    comment = f' // A <- Mem[{mem_addr}]'\n",
    "    \n",
    "    return '\\n'.join([bin_format(READ_MEM_TO_A) + comment, bin_format(mem_addr)])\n",
    "\n",
    "def read_mem_to_B(mem_addr:int, ram_size=RAM_SIZE):\n",
    "    assert mem_addr >= 0 and mem_addr < ram_size,\\\n",
    "            f'Memory address {mem_addr} out of range for {ram_size} bytes RAM!'\n",
    "    \n",
    "    comment = f' // B <- Mem[{mem_addr}]'\n",
    "    \n",
    "    return '\\n'.join([bin_format(READ_MEM_TO_B) + comment, bin_format(mem_addr)])\n",
    "\n",
    "def write_A_to_mem(mem_addr:int, ram_size=RAM_SIZE):\n",
    "    assert mem_addr >= 0 and mem_addr < ram_size,\\\n",
    "            f'Memory address {mem_addr} out of range for {ram_size} bytes RAM!'\n",
    "    \n",
    "    comment = f' // Mem[{mem_addr}] <- A'\n",
    "    \n",
    "    return '\\n'.join([bin_format(WRITE_A_TO_MEM) + comment, bin_format(mem_addr)])\n",
    "\n",
    "def write_B_to_mem(mem_addr:int, ram_size=RAM_SIZE):\n",
    "    assert mem_addr >= 0 and mem_addr < ram_size,\\\n",
    "            f'Memory address {mem_addr} out of range for {ram_size} bytes RAM!'\n",
    "    \n",
    "    comment = f' // Mem[{mem_addr}] <- B'\n",
    "    \n",
    "    return '\\n'.join([bin_format(WRITE_B_TO_MEM) + comment, bin_format(mem_addr)])\n",
    "\n",
    "def alu_to_A(op_code:int):\n",
    "    assert op_code in ALU_OPS._value2member_map_, f'Op-code {op_code} is not valid!'\n",
    "    \n",
    "    comment = f' // A <- {ALU_OPS_COMMENTS[op_code]}'\n",
    "    \n",
    "    return bin_format((op_code << 4) + ALU_OP_TO_A) + comment\n",
    "\n",
    "def alu_to_B(op_code:int):\n",
    "    assert op_code in ALU_OPS._value2member_map_, f'Op-code {op_code} is not valid!'\n",
    "    \n",
    "    comment = f' // B <- {ALU_OPS_COMMENTS[op_code]}'\n",
    "    \n",
    "    return bin_format((op_code << 4) + ALU_OP_TO_B) + comment"
   ]
  },
  {
   "cell_type": "code",
   "execution_count": 88,
   "id": "591ca8e1-b74c-4f5b-8b89-bd0db660bde0",
   "metadata": {},
   "outputs": [],
   "source": [
    "def generate_rom(program, filename, size=2**8):\n",
    "    rom = '\\n'.join(program)\n",
    "    rom_size = len(rom.split('\\n'))\n",
    "    assert rom_size <= size, f'Program is {rom_size} bytes for {size} bytes ROM.'\n",
    "    \n",
    "    # Fill rest of ROM with 00\n",
    "    if rom_size < size:\n",
    "        rom = rom + '\\n' + '\\n'.join(['FF']*(size-rom_size))\n",
    "    \n",
    "    with open(filename, 'w') as f:\n",
    "        f.write(rom)\n",
    "        \n",
    "def generate_ram(data_entries, filename, size=2**7):\n",
    "    ram = np.zeros(size, dtype=int)\n",
    "    for i, d in data_entries:\n",
    "        ram[i] = d\n",
    "    \n",
    "    ram = '\\n'.join(map(bin_format, ram))\n",
    "    with open(filename, 'w') as f:\n",
    "        f.write(ram)"
   ]
  },
  {
   "cell_type": "code",
   "execution_count": 94,
   "id": "5c3dc25f-68b1-4086-85d3-c66043508d7b",
   "metadata": {},
   "outputs": [],
   "source": [
    "program = [\n",
    "    # Memory instruction testing\n",
    "    read_mem_to_A(0),\n",
    "    read_mem_to_B(1),\n",
    "    write_A_to_mem(2),\n",
    "    write_B_to_mem(3),\n",
    "    read_mem_to_A(3),\n",
    "    read_mem_to_B(2),\n",
    "    \n",
    "    # ALU operation testing\n",
    "    alu_to_A(ALU_OPS.ADD),\n",
    "    alu_to_B(ALU_OPS.ADD),\n",
    "    alu_to_B(ALU_OPS.SUB),\n",
    "    alu_to_A(ALU_OPS.SUB),\n",
    "    alu_to_A(ALU_OPS.MUL),\n",
    "    alu_to_B(ALU_OPS.MUL),\n",
    "    alu_to_A(ALU_OPS.SL_A),\n",
    "    alu_to_A(ALU_OPS.SR_A),\n",
    "    alu_to_B(ALU_OPS.SL_A),\n",
    "    alu_to_B(ALU_OPS.SR_A),\n",
    "    alu_to_A(ALU_OPS.INC_A),\n",
    "    alu_to_A(ALU_OPS.DEC_A),\n",
    "    alu_to_B(ALU_OPS.INC_B),\n",
    "    alu_to_B(ALU_OPS.DEC_B),\n",
    "    alu_to_A(ALU_OPS.EQ),\n",
    "    alu_to_B(ALU_OPS.EQ),\n",
    "    alu_to_A(ALU_OPS.EQ),\n",
    "    alu_to_A(ALU_OPS.GT),\n",
    "    alu_to_A(ALU_OPS.LT),\n",
    "    alu_to_B(ALU_OPS.EQ),\n",
    "    alu_to_B(ALU_OPS.LT),\n",
    "    alu_to_B(ALU_OPS.GT),\n",
    "    alu_to_B(ALU_OPS.INC_B),\n",
    "    alu_to_B(ALU_OPS.OUT_A),\n",
    "    alu_to_A(ALU_OPS.OUT_A)\n",
    "]\n",
    "rom_path = os.path.join(data_dir, 'ROM_processor_test.mem')\n",
    "generate_rom(program, rom_path)"
   ]
  },
  {
   "cell_type": "code",
   "execution_count": 48,
   "id": "d4008eb6-8105-4235-ad33-4ae43f454311",
   "metadata": {},
   "outputs": [],
   "source": [
    "data_entries = [\n",
    "    (0, 42),\n",
    "    (1, 69)\n",
    "]\n",
    "\n",
    "ram_path = os.path.join(data_dir, 'RAM_processor_test.mem')\n",
    "generate_ram(data_entries, ram_path)"
   ]
  }
 ],
 "metadata": {
  "kernelspec": {
   "display_name": "Python 3",
   "language": "python",
   "name": "python3"
  },
  "language_info": {
   "codemirror_mode": {
    "name": "ipython",
    "version": 3
   },
   "file_extension": ".py",
   "mimetype": "text/x-python",
   "name": "python",
   "nbconvert_exporter": "python",
   "pygments_lexer": "ipython3",
   "version": "3.9.12"
  }
 },
 "nbformat": 4,
 "nbformat_minor": 5
}
